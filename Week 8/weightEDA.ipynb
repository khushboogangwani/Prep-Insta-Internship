{
  "cells": [
    {
      "cell_type": "code",
      "execution_count": null,
      "id": "12622ab0",
      "metadata": {
        "id": "12622ab0"
      },
      "outputs": [],
      "source": [
        "import numpy as np\n",
        "import pandas as pd\n",
        "import matplotlib as plt\n",
        "import seaborn as sns\n",
        "\n"
      ]
    },
    {
      "cell_type": "code",
      "execution_count": null,
      "id": "fd25056d",
      "metadata": {
        "id": "fd25056d",
        "outputId": "ed0e99d3-9575-4707-f054-d8a8d4d0c553"
      },
      "outputs": [
        {
          "data": {
            "text/html": [
              "<div>\n",
              "<style scoped>\n",
              "    .dataframe tbody tr th:only-of-type {\n",
              "        vertical-align: middle;\n",
              "    }\n",
              "\n",
              "    .dataframe tbody tr th {\n",
              "        vertical-align: top;\n",
              "    }\n",
              "\n",
              "    .dataframe thead th {\n",
              "        text-align: right;\n",
              "    }\n",
              "</style>\n",
              "<table border=\"1\" class=\"dataframe\">\n",
              "  <thead>\n",
              "    <tr style=\"text-align: right;\">\n",
              "      <th></th>\n",
              "      <th>Id</th>\n",
              "      <th>Date Weight</th>\n",
              "      <th>BMI</th>\n",
              "      <th>WeightKg</th>\n",
              "      <th>WeightPounds</th>\n",
              "    </tr>\n",
              "  </thead>\n",
              "  <tbody>\n",
              "    <tr>\n",
              "      <th>0</th>\n",
              "      <td>1503960366</td>\n",
              "      <td>2016-05-02</td>\n",
              "      <td>22.650000</td>\n",
              "      <td>52.599998</td>\n",
              "      <td>115.963147</td>\n",
              "    </tr>\n",
              "    <tr>\n",
              "      <th>1</th>\n",
              "      <td>1503960366</td>\n",
              "      <td>2016-05-03</td>\n",
              "      <td>22.650000</td>\n",
              "      <td>52.599998</td>\n",
              "      <td>115.963147</td>\n",
              "    </tr>\n",
              "    <tr>\n",
              "      <th>2</th>\n",
              "      <td>1927972279</td>\n",
              "      <td>2016-04-13</td>\n",
              "      <td>47.540001</td>\n",
              "      <td>133.500000</td>\n",
              "      <td>294.317120</td>\n",
              "    </tr>\n",
              "    <tr>\n",
              "      <th>3</th>\n",
              "      <td>2873212765</td>\n",
              "      <td>2016-04-21</td>\n",
              "      <td>21.450001</td>\n",
              "      <td>56.700001</td>\n",
              "      <td>125.002104</td>\n",
              "    </tr>\n",
              "    <tr>\n",
              "      <th>4</th>\n",
              "      <td>2873212765</td>\n",
              "      <td>2016-05-12</td>\n",
              "      <td>21.690001</td>\n",
              "      <td>57.299999</td>\n",
              "      <td>126.324875</td>\n",
              "    </tr>\n",
              "  </tbody>\n",
              "</table>\n",
              "</div>"
            ],
            "text/plain": [
              "           Id Date Weight        BMI    WeightKg  WeightPounds\n",
              "0  1503960366  2016-05-02  22.650000   52.599998    115.963147\n",
              "1  1503960366  2016-05-03  22.650000   52.599998    115.963147\n",
              "2  1927972279  2016-04-13  47.540001  133.500000    294.317120\n",
              "3  2873212765  2016-04-21  21.450001   56.700001    125.002104\n",
              "4  2873212765  2016-05-12  21.690001   57.299999    126.324875"
            ]
          },
          "execution_count": 4,
          "metadata": {},
          "output_type": "execute_result"
        }
      ],
      "source": [
        "import pandas as pd\n",
        "\n",
        "# Specify the file path\n",
        "file_path = 'weight_log_info_data_cleaned.csv'  # Replace 'your_file_path.csv' with the actual file path\n",
        "\n",
        "# Read the CSV file into a DataFrame\n",
        "df = pd.read_csv(file_path)\n",
        "\n",
        "# Display the DataFrame to verify the import\n",
        "df.head()"
      ]
    },
    {
      "cell_type": "code",
      "execution_count": null,
      "id": "b28028d0",
      "metadata": {
        "id": "b28028d0",
        "outputId": "f51dd554-d042-414f-f4a6-1fc97b6cecf8"
      },
      "outputs": [
        {
          "data": {
            "text/html": [
              "<div>\n",
              "<style scoped>\n",
              "    .dataframe tbody tr th:only-of-type {\n",
              "        vertical-align: middle;\n",
              "    }\n",
              "\n",
              "    .dataframe tbody tr th {\n",
              "        vertical-align: top;\n",
              "    }\n",
              "\n",
              "    .dataframe thead th {\n",
              "        text-align: right;\n",
              "    }\n",
              "</style>\n",
              "<table border=\"1\" class=\"dataframe\">\n",
              "  <thead>\n",
              "    <tr style=\"text-align: right;\">\n",
              "      <th></th>\n",
              "      <th>Id</th>\n",
              "      <th>Date Weight</th>\n",
              "      <th>BMI</th>\n",
              "      <th>WeightKg</th>\n",
              "      <th>WeightPounds</th>\n",
              "    </tr>\n",
              "  </thead>\n",
              "  <tbody>\n",
              "    <tr>\n",
              "      <th>0</th>\n",
              "      <td>1503960366</td>\n",
              "      <td>2016-05-02</td>\n",
              "      <td>22.650000</td>\n",
              "      <td>52.599998</td>\n",
              "      <td>115.963147</td>\n",
              "    </tr>\n",
              "    <tr>\n",
              "      <th>1</th>\n",
              "      <td>1503960366</td>\n",
              "      <td>2016-05-03</td>\n",
              "      <td>22.650000</td>\n",
              "      <td>52.599998</td>\n",
              "      <td>115.963147</td>\n",
              "    </tr>\n",
              "    <tr>\n",
              "      <th>2</th>\n",
              "      <td>1927972279</td>\n",
              "      <td>2016-04-13</td>\n",
              "      <td>47.540001</td>\n",
              "      <td>133.500000</td>\n",
              "      <td>294.317120</td>\n",
              "    </tr>\n",
              "    <tr>\n",
              "      <th>3</th>\n",
              "      <td>2873212765</td>\n",
              "      <td>2016-04-21</td>\n",
              "      <td>21.450001</td>\n",
              "      <td>56.700001</td>\n",
              "      <td>125.002104</td>\n",
              "    </tr>\n",
              "    <tr>\n",
              "      <th>4</th>\n",
              "      <td>2873212765</td>\n",
              "      <td>2016-05-12</td>\n",
              "      <td>21.690001</td>\n",
              "      <td>57.299999</td>\n",
              "      <td>126.324875</td>\n",
              "    </tr>\n",
              "    <tr>\n",
              "      <th>...</th>\n",
              "      <td>...</td>\n",
              "      <td>...</td>\n",
              "      <td>...</td>\n",
              "      <td>...</td>\n",
              "      <td>...</td>\n",
              "    </tr>\n",
              "    <tr>\n",
              "      <th>62</th>\n",
              "      <td>8877689391</td>\n",
              "      <td>2016-05-06</td>\n",
              "      <td>25.440001</td>\n",
              "      <td>85.000000</td>\n",
              "      <td>187.392923</td>\n",
              "    </tr>\n",
              "    <tr>\n",
              "      <th>63</th>\n",
              "      <td>8877689391</td>\n",
              "      <td>2016-05-08</td>\n",
              "      <td>25.559999</td>\n",
              "      <td>85.400002</td>\n",
              "      <td>188.274775</td>\n",
              "    </tr>\n",
              "    <tr>\n",
              "      <th>64</th>\n",
              "      <td>8877689391</td>\n",
              "      <td>2016-05-09</td>\n",
              "      <td>25.610001</td>\n",
              "      <td>85.500000</td>\n",
              "      <td>188.495234</td>\n",
              "    </tr>\n",
              "    <tr>\n",
              "      <th>65</th>\n",
              "      <td>8877689391</td>\n",
              "      <td>2016-05-11</td>\n",
              "      <td>25.559999</td>\n",
              "      <td>85.400002</td>\n",
              "      <td>188.274775</td>\n",
              "    </tr>\n",
              "    <tr>\n",
              "      <th>66</th>\n",
              "      <td>8877689391</td>\n",
              "      <td>2016-05-12</td>\n",
              "      <td>25.139999</td>\n",
              "      <td>84.000000</td>\n",
              "      <td>185.188300</td>\n",
              "    </tr>\n",
              "  </tbody>\n",
              "</table>\n",
              "<p>67 rows × 5 columns</p>\n",
              "</div>"
            ],
            "text/plain": [
              "            Id Date Weight        BMI    WeightKg  WeightPounds\n",
              "0   1503960366  2016-05-02  22.650000   52.599998    115.963147\n",
              "1   1503960366  2016-05-03  22.650000   52.599998    115.963147\n",
              "2   1927972279  2016-04-13  47.540001  133.500000    294.317120\n",
              "3   2873212765  2016-04-21  21.450001   56.700001    125.002104\n",
              "4   2873212765  2016-05-12  21.690001   57.299999    126.324875\n",
              "..         ...         ...        ...         ...           ...\n",
              "62  8877689391  2016-05-06  25.440001   85.000000    187.392923\n",
              "63  8877689391  2016-05-08  25.559999   85.400002    188.274775\n",
              "64  8877689391  2016-05-09  25.610001   85.500000    188.495234\n",
              "65  8877689391  2016-05-11  25.559999   85.400002    188.274775\n",
              "66  8877689391  2016-05-12  25.139999   84.000000    185.188300\n",
              "\n",
              "[67 rows x 5 columns]"
            ]
          },
          "execution_count": 5,
          "metadata": {},
          "output_type": "execute_result"
        }
      ],
      "source": [
        "df"
      ]
    },
    {
      "cell_type": "code",
      "execution_count": null,
      "id": "ac0e183c",
      "metadata": {
        "id": "ac0e183c",
        "outputId": "33a1bb87-570c-411d-9724-549999868961"
      },
      "outputs": [
        {
          "name": "stdout",
          "output_type": "stream",
          "text": [
            "Id\n",
            "Date Weight\n",
            "BMI\n",
            "WeightKg\n",
            "WeightPounds\n"
          ]
        }
      ],
      "source": [
        "for i in df.columns:\n",
        "    print(i)"
      ]
    },
    {
      "cell_type": "code",
      "execution_count": null,
      "id": "3dc5bac6",
      "metadata": {
        "scrolled": false,
        "id": "3dc5bac6",
        "outputId": "ca0e06b6-4b4e-4c4d-cb67-d71a11f04146"
      },
      "outputs": [
        {
          "data": {
            "image/png": "[encoded data removed]",
            "text/plain": [
              "<Figure size 1000x600 with 1 Axes>"
            ]
          },
          "metadata": {},
          "output_type": "display_data"
        }
      ],
      "source": [
        "import seaborn as sns\n",
        "import matplotlib.pyplot as plt\n",
        "\n",
        "# Plot Histogram for BMI\n",
        "plt.figure(figsize=(10, 6))\n",
        "sns.histplot(df['BMI'], bins=30, kde=True, color='skyblue')\n",
        "plt.title('Histogram for BMI')\n",
        "plt.xlabel('BMI')\n",
        "plt.ylabel('Frequency')\n",
        "plt.show()\n"
      ]
    },
    {
      "cell_type": "code",
      "execution_count": null,
      "id": "6b61a777",
      "metadata": {
        "id": "6b61a777",
        "outputId": "fa89bd21-e686-45ed-c9e4-858f8f6a474f"
      },
      "outputs": [
        {
          "data": {
            "image/png": "[encoded data removed]",
            "text/plain": [
              "<Figure size 1000x800 with 1 Axes>"
            ]
          },
          "metadata": {},
          "output_type": "display_data"
        }
      ],
      "source": [
        "import seaborn as sns\n",
        "import matplotlib.pyplot as plt\n",
        "\n",
        "# Assuming your DataFrame is named 'df'\n",
        "# If not, replace 'df' with the actual name of your DataFrame\n",
        "\n",
        "# Plot Scatter Plot for WeightKg vs. WeightPounds\n",
        "plt.figure(figsize=(10, 8))\n",
        "sns.scatterplot(x='WeightKg', y='WeightPounds', data=df, color='green')\n",
        "plt.title('Scatter Plot: WeightKg vs. WeightPounds')\n",
        "plt.xlabel('Weight in Kg')\n",
        "plt.ylabel('Weight in Pounds')\n",
        "plt.show()\n"
      ]
    },
    {
      "cell_type": "code",
      "execution_count": null,
      "id": "7f1cef2e",
      "metadata": {
        "id": "7f1cef2e"
      },
      "outputs": [],
      "source": []
    }
  ],
  "metadata": {
    "kernelspec": {
      "display_name": "Python 3 (ipykernel)",
      "language": "python",
      "name": "python3"
    },
    "language_info": {
      "codemirror_mode": {
        "name": "ipython",
        "version": 3
      },
      "file_extension": ".py",
      "mimetype": "text/x-python",
      "name": "python",
      "nbconvert_exporter": "python",
      "pygments_lexer": "ipython3",
      "version": "3.11.5"
    },
    "colab": {
      "provenance": []
    }
  },
  "nbformat": 4,
  "nbformat_minor": 5
}