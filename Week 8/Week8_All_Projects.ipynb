{
  "nbformat": 4,
  "nbformat_minor": 0,
  "metadata": {
    "colab": {
      "provenance": []
    },
    "kernelspec": {
      "name": "python3",
      "display_name": "Python 3"
    },
    "language_info": {
      "name": "python"
    }
  },
  "cells": [
    {
      "cell_type": "markdown",
      "source": [
        "Links for each dataset:\n",
        "\n",
        "daily EDA = https://colab.research.google.com/drive/16iCOwhdNyd_IG-7iEYMtmmHQHj3t0yfi?usp=sharing\n",
        "\n",
        "Hourly EDA = https://colab.research.google.com/drive/1Oakpf05KwlkX6J2UZrQBaJJ50uOia012?usp=sharing\n",
        "\n",
        "Minute EDA = https://colab.research.google.com/drive/1VtupsS1uu5TojX4U6Df3UH-HXJ5XMARt?usp=sharing\n",
        "\n",
        "Sleep_ EDA = https://colab.research.google.com/drive/1iaR8MQonkl2iccEmTTtUzvZYNyh0shhs?usp=sharing\n",
        "\n",
        "heart_rate_EDA = https://colab.research.google.com/drive/19wh79tCM9QkwrwQQIIa51YwjsnXSma14?usp=sharing\n",
        "\n",
        "Weight_EDA = https://colab.research.google.com/drive/1tnQWV2hSmZm_SPaFtCNT6pOWdKMV7Yge?usp=sharing\n",
        "\n"
      ],
      "metadata": {
        "id": "WONsMSxyRL2v"
      }
    },
    {
      "cell_type": "code",
      "execution_count": null,
      "metadata": {
        "id": "9GL4ttV2RKF1"
      },
      "outputs": [],
      "source": []
    }
  ]
}